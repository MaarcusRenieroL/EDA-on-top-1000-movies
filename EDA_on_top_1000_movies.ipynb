{
  "nbformat": 4,
  "nbformat_minor": 0,
  "metadata": {
    "colab": {
      "name": "EDA on top 1000 movies.ipynb",
      "provenance": [],
      "authorship_tag": "ABX9TyMTNFOs/sCVCWQAPqo5sWHl",
      "include_colab_link": true
    },
    "kernelspec": {
      "name": "python3",
      "display_name": "Python 3"
    },
    "language_info": {
      "name": "python"
    }
  },
  "cells": [
    {
      "cell_type": "markdown",
      "metadata": {
        "id": "view-in-github",
        "colab_type": "text"
      },
      "source": [
        "<a href=\"https://colab.research.google.com/github/MaarcusRenieroL/colab/blob/main/EDA_on_top_1000_movies.ipynb\" target=\"_parent\"><img src=\"https://colab.research.google.com/assets/colab-badge.svg\" alt=\"Open In Colab\"/></a>"
      ]
    },
    {
      "cell_type": "code",
      "source": [
        "import pandas as pd\n",
        "import seaborn as s\n",
        "import matplotlib.pyplot as plt"
      ],
      "metadata": {
        "id": "A7VvM0l7z3P7"
      },
      "execution_count": null,
      "outputs": []
    },
    {
      "cell_type": "code",
      "source": [
        "data=pd.read_csv('IMDB-Movie-Data.csv')"
      ],
      "metadata": {
        "id": "4e1KBJR3yoVE"
      },
      "execution_count": null,
      "outputs": []
    },
    {
      "cell_type": "code",
      "source": [
        "data.head(10)"
      ],
      "metadata": {
        "id": "1NXWF-3My3Aw"
      },
      "execution_count": null,
      "outputs": []
    },
    {
      "cell_type": "code",
      "source": [
        "data.tail(10)"
      ],
      "metadata": {
        "id": "1Jtnr9STy4gE"
      },
      "execution_count": null,
      "outputs": []
    },
    {
      "cell_type": "code",
      "source": [
        "data.shape"
      ],
      "metadata": {
        "id": "yACs0fIDy-IV"
      },
      "execution_count": null,
      "outputs": []
    },
    {
      "cell_type": "code",
      "source": [
        "data.info()"
      ],
      "metadata": {
        "id": "u5-8oKHDzCgl"
      },
      "execution_count": null,
      "outputs": []
    },
    {
      "cell_type": "code",
      "source": [
        "data.isnull().values.any()"
      ],
      "metadata": {
        "id": "97waEe1fzGQj"
      },
      "execution_count": null,
      "outputs": []
    },
    {
      "cell_type": "code",
      "source": [
        "data.isnull()"
      ],
      "metadata": {
        "id": "H3IoDGIRzL3k"
      },
      "execution_count": null,
      "outputs": []
    },
    {
      "cell_type": "code",
      "source": [
        "data.isnull().sum()"
      ],
      "metadata": {
        "id": "QrFMbu0MzN0U"
      },
      "execution_count": null,
      "outputs": []
    },
    {
      "cell_type": "code",
      "source": [
        "s.heatmap(data.isnull())"
      ],
      "metadata": {
        "id": "Va1FZr0gzQbU"
      },
      "execution_count": null,
      "outputs": []
    },
    {
      "cell_type": "code",
      "source": [
        "per_missing = data.isnull().sum()*100/len(data)\n",
        "print(per_missing)"
      ],
      "metadata": {
        "id": "SUgKtrWRzTfU"
      },
      "execution_count": null,
      "outputs": []
    },
    {
      "cell_type": "code",
      "source": [
        "data.dropna(axis=0)"
      ],
      "metadata": {
        "id": "Ug4jKyMEzZ0V"
      },
      "execution_count": null,
      "outputs": []
    },
    {
      "cell_type": "code",
      "source": [
        "data.duplicated().any()"
      ],
      "metadata": {
        "id": "oz6B2x8pzijn"
      },
      "execution_count": null,
      "outputs": []
    },
    {
      "cell_type": "code",
      "source": [
        "data.describe()"
      ],
      "metadata": {
        "id": "3DyarT-1zmVE"
      },
      "execution_count": null,
      "outputs": []
    },
    {
      "cell_type": "code",
      "source": [
        "data.columns"
      ],
      "metadata": {
        "id": "huNclwH1zuPF"
      },
      "execution_count": null,
      "outputs": []
    },
    {
      "cell_type": "code",
      "source": [
        "data['Runtime (Minutes)']>=180"
      ],
      "metadata": {
        "id": "kKwt5EPGzzzU"
      },
      "execution_count": null,
      "outputs": []
    },
    {
      "cell_type": "code",
      "source": [
        "data[data['Runtime (Minutes)']>=180]['Title']"
      ],
      "metadata": {
        "id": "Ik3mp2VCz5Yk"
      },
      "execution_count": null,
      "outputs": []
    },
    {
      "cell_type": "code",
      "source": [
        "data.groupby('Year')['Votes'].mean()"
      ],
      "metadata": {
        "id": "oDRD6MD20CzE"
      },
      "execution_count": null,
      "outputs": []
    },
    {
      "cell_type": "code",
      "source": [
        "data.groupby('Year')['Votes'].mean().sort_values(ascending=False)"
      ],
      "metadata": {
        "id": "D1Q8on830RIE"
      },
      "execution_count": null,
      "outputs": []
    },
    {
      "cell_type": "code",
      "source": [
        "s.barplot('Year', 'Votes', data=data)\n",
        "plt.title('Votes By Year')\n",
        "plt.show()"
      ],
      "metadata": {
        "id": "Asl023ku0WoE"
      },
      "execution_count": null,
      "outputs": []
    },
    {
      "cell_type": "code",
      "source": [
        "data.groupby('Year')['Revenue (Millions)'].mean().sort_values(ascending=False)"
      ],
      "metadata": {
        "id": "PWQEnWqz0m2g"
      },
      "execution_count": null,
      "outputs": []
    },
    {
      "cell_type": "code",
      "source": [
        "s.barplot('Year', 'Revenue (Millions)', data=data)\n",
        "plt.title('Revenue By Year')\n",
        "plt.show()"
      ],
      "metadata": {
        "id": "oHzA9cSy1uzt"
      },
      "execution_count": null,
      "outputs": []
    },
    {
      "cell_type": "code",
      "source": [
        "data.columns\n",
        "data.groupby('Director')['Rating'].mean().sort_values(ascending=False)"
      ],
      "metadata": {
        "id": "VJ0EsTOh1zaE"
      },
      "execution_count": null,
      "outputs": []
    },
    {
      "cell_type": "code",
      "source": [
        "top10 = data.nlargest(10, 'Runtime (Minutes)')[['Title', 'Runtime (Minutes)']].set_index('Title')\n",
        "print(top10)"
      ],
      "metadata": {
        "id": "aJ6PhFVh1-lk"
      },
      "execution_count": null,
      "outputs": []
    },
    {
      "cell_type": "code",
      "source": [
        "top10_len = data.nlargest(10, 'Runtime (Minutes)')[['Title', 'Runtime (Minutes)']].set_index('Title')\n",
        "print(top10_len)\n",
        "s.barplot('Runtime (Minutes)', top10_len.index, data=top10_len)\n",
        "plt.title('Votes By Year')\n",
        "plt.show()"
      ],
      "metadata": {
        "id": "kJ2b5OEg2VlP"
      },
      "execution_count": null,
      "outputs": []
    },
    {
      "cell_type": "code",
      "source": [
        "data['Year'].value_counts()"
      ],
      "metadata": {
        "id": "g_k5B3YM20e1"
      },
      "execution_count": null,
      "outputs": []
    },
    {
      "cell_type": "code",
      "source": [
        "s.countplot(x='Year', data=data)\n",
        "plt.title('Number of Movies Per Year')\n",
        "plt.show()"
      ],
      "metadata": {
        "id": "V0iG6ftI3B_0"
      },
      "execution_count": null,
      "outputs": []
    },
    {
      "cell_type": "code",
      "source": [
        "data[data['Revenue (Millions)'].max()==data['Revenue (Millions)']]['Title']"
      ],
      "metadata": {
        "id": "Q3RRa5Yg3HtE"
      },
      "execution_count": null,
      "outputs": []
    },
    {
      "cell_type": "code",
      "source": [
        "top10_rating = data.nlargest(10, 'Rating')[['Title', 'Rating']].set_index('Title')\n",
        "print(top10_rating)\n",
        "s.barplot('Rating', top10_rating.index, data=top10_rating)\n",
        "plt.title('Votes By Year')\n",
        "plt.show()"
      ],
      "metadata": {
        "id": "9neRTIfd3YHk"
      },
      "execution_count": null,
      "outputs": []
    },
    {
      "cell_type": "code",
      "source": [
        ""
      ],
      "metadata": {
        "id": "uUpQ47KN4FYg"
      },
      "execution_count": null,
      "outputs": []
    }
  ]
}